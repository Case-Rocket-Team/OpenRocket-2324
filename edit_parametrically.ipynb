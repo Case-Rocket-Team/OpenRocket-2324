{
 "cells": [
  {
   "cell_type": "code",
   "execution_count": null,
   "metadata": {},
   "outputs": [],
   "source": [
    "import xml.etree.ElementTree as ET\n",
    "\n",
    "def parse_element(element):\n",
    "    \"\"\"Parse an XML element and return a dictionary.\"\"\"\n",
    "    parsed_element = {\n",
    "        'tag': element.tag,\n",
    "        'attributes': element.attrib,\n",
    "        'text': element.text.strip() if element.text else '',\n",
    "        'children': [parse_element(child) for child in element]\n",
    "    }\n",
    "    return parsed_element\n",
    "\n",
    "def flatten_dict(d, parent_key='', sep='_'):\n",
    "    \"\"\"Flatten a nested dictionary.\"\"\"\n",
    "    items = []\n",
    "    for k, v in d.items():\n",
    "        new_key = f\"{parent_key}{sep}{k}\" if parent_key else k\n",
    "        if isinstance(v, dict):\n",
    "            items.extend(flatten_dict(v, new_key, sep=sep).items())\n",
    "        else:\n",
    "            items.append((new_key, v))\n",
    "    return dict(items)\n",
    "\n",
    "def parse_and_flatten_xml(filename):\n",
    "    \"\"\"Parse an XML file and return a flattened dictionary.\"\"\"\n",
    "    tree = ET.parse(filename)\n",
    "    root = tree.getroot()\n",
    "    parsed_dict = parse_element(root)\n",
    "    flattened_dict = flatten_dict(parsed_dict)\n",
    "    return flattened_dict\n",
    "\n",
    "filename = 'rocket.ork'  # replace with your filename\n",
    "flattened_dict = parse_and_flatten_xml(filename)\n",
    "print(flattened_dict)"
   ]
  }
 ],
 "metadata": {
  "language_info": {
   "name": "python"
  },
  "orig_nbformat": 4
 },
 "nbformat": 4,
 "nbformat_minor": 2
}
