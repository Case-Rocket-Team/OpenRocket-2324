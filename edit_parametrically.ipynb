{
 "cells": [
  {
   "cell_type": "code",
   "execution_count": 1,
   "metadata": {},
   "outputs": [],
   "source": [
    "from component import Component as C"
   ]
  },
  {
   "cell_type": "code",
   "execution_count": 50,
   "metadata": {},
   "outputs": [],
   "source": [
    "def m2i(meters):\n",
    "    if 'auto' in meters:\n",
    "        return float('NaN')\n",
    "    return float(meters) * 39.3701\n",
    "\n",
    "def i2m(inches):\n",
    "    return str(inches / 39.3701)"
   ]
  },
  {
   "cell_type": "code",
   "execution_count": 51,
   "metadata": {},
   "outputs": [],
   "source": [
    "comp = C(filename='rocket.ork')"
   ]
  },
  {
   "cell_type": "code",
   "execution_count": 52,
   "metadata": {},
   "outputs": [
    {
     "name": "stdout",
     "output_type": "stream",
     "text": [
      "nosecone: [('aftradius', 6.1811057), ('aftshoulderradius', 0.0)]\n",
      "centeringring: [('outerradius', 5.629924300000001), ('innerradius', 4.4881914)]\n",
      "bulkhead: [('outerradius', 4.645671800000001)]\n",
      "tubecoupler: [('outerradius', 5.9842552)]\n",
      "bodytube: [('radius', 6.1811057)]\n",
      "bulkhead: [('outerradius', 5.9842552)]\n",
      "bodytube: [('radius', 6.1811057)]\n",
      "tubecoupler: [('outerradius', 5.9842552)]\n",
      "bulkhead: [('outerradius', 5.9842552)]\n",
      "bulkhead: [('outerradius', 5.9842552)]\n",
      "bodytube: [('radius', 6.1811057)]\n",
      "bodytube: [('radius', 6.1811057)]\n",
      "transition: [('foreradius', 6.1811057), ('aftradius', 3.8582698000000004), ('foreshoulderradius', 0.0), ('aftshoulderradius', 0.0)]\n",
      "innertube: [('outerradius', 2.2401586900000003)]\n",
      "centeringring: [('outerradius', 5.9842552), ('innerradius', 1.90157583)]\n",
      "centeringring: [('outerradius', 5.9842552), ('innerradius', 1.90157583)]\n",
      "centeringring: [('outerradius', 5.9842552), ('innerradius', 3.8582698000000004)]\n",
      "tubecoupler: [('outerradius', 5.9842552)]\n"
     ]
    }
   ],
   "source": [
    "for c in comp:\n",
    "    if any(['radius' in key\n",
    "            and 'packed' not in key\n",
    "            and 'offset' not in key\n",
    "            and 'fillet' not in key\n",
    "            for key in c.data.keys()]):\n",
    "        \n",
    "        print(f\"{c.tag}: {[(key,m2i(c.data[key]['value'])*2) for key in c.data.keys() if 'radius' in key]}\")\n",
    "        \n",
    "        "
   ]
  },
  {
   "cell_type": "code",
   "execution_count": 57,
   "metadata": {},
   "outputs": [
    {
     "name": "stdout",
     "output_type": "stream",
     "text": [
      "dict_keys(['name', 'finish', 'material', 'length', 'thickness', 'radius'])\n",
      "dict_keys(['name', 'finish', 'material', 'length', 'thickness', 'radius'])\n",
      "dict_keys(['name', 'finish', 'material', 'length', 'thickness', 'radius'])\n",
      "dict_keys(['name', 'finish', 'material', 'length', 'thickness', 'radius'])\n"
     ]
    }
   ],
   "source": [
    "for c in comp:\n",
    "    if c.tag == 'bodytube':\n",
    "        print(c.data.keys())"
   ]
  },
  {
   "cell_type": "code",
   "execution_count": 58,
   "metadata": {},
   "outputs": [
    {
     "data": {
      "text/plain": [
       "6.096"
      ]
     },
     "execution_count": 58,
     "metadata": {},
     "output_type": "execute_result"
    }
   ],
   "source": [
    "6.181 - 0.085"
   ]
  },
  {
   "cell_type": "code",
   "execution_count": null,
   "metadata": {},
   "outputs": [],
   "source": []
  }
 ],
 "metadata": {
  "kernelspec": {
   "display_name": "Python 3",
   "language": "python",
   "name": "python3"
  },
  "language_info": {
   "codemirror_mode": {
    "name": "ipython",
    "version": 3
   },
   "file_extension": ".py",
   "mimetype": "text/x-python",
   "name": "python",
   "nbconvert_exporter": "python",
   "pygments_lexer": "ipython3",
   "version": "3.11.3"
  },
  "orig_nbformat": 4
 },
 "nbformat": 4,
 "nbformat_minor": 2
}
