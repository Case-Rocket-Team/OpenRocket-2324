{
 "cells": [
  {
   "cell_type": "code",
   "execution_count": 1,
   "metadata": {},
   "outputs": [],
   "source": [
    "from component import Component as C"
   ]
  },
  {
   "cell_type": "code",
   "execution_count": 46,
   "metadata": {},
   "outputs": [],
   "source": [
    "def m2i(meters):\n",
    "    if 'auto' in meters:\n",
    "        return float('NaN')\n",
    "    return float(meters) * 39.3701\n",
    "\n",
    "def i2m(inches):\n",
    "    return str(inches / 39.3701)"
   ]
  },
  {
   "cell_type": "code",
   "execution_count": 2,
   "metadata": {},
   "outputs": [],
   "source": [
    "comp = C(filename='rocket.ork')"
   ]
  },
  {
   "cell_type": "code",
   "execution_count": 47,
   "metadata": {},
   "outputs": [
    {
     "name": "stdout",
     "output_type": "stream",
     "text": [
      "nosecone: [('aftradius', 3.09055285), ('aftshoulderradius', 0.0)]\n",
      "centeringring: [('outerradius', 2.8149621500000004), ('innerradius', 2.2440957)]\n",
      "bulkhead: [('outerradius', 2.3228359000000003)]\n",
      "tubecoupler: [('outerradius', 2.9921276)]\n",
      "bodytube: [('radius', nan)]\n",
      "bulkhead: [('outerradius', 2.9921276)]\n",
      "bodytube: [('radius', nan)]\n",
      "tubecoupler: [('outerradius', 2.9921276)]\n",
      "bulkhead: [('outerradius', 2.9921276)]\n",
      "bulkhead: [('outerradius', 2.9921276)]\n",
      "bodytube: [('radius', nan)]\n",
      "bodytube: [('radius', nan)]\n",
      "transition: [('foreradius', nan), ('aftradius', 1.9291349000000002), ('foreshoulderradius', 0.0), ('aftshoulderradius', 0.0)]\n",
      "innertube: [('outerradius', 1.1200793450000002)]\n",
      "centeringring: [('outerradius', 2.9921276), ('innerradius', 0.950787915)]\n",
      "centeringring: [('outerradius', 2.9921276), ('innerradius', 0.950787915)]\n",
      "centeringring: [('outerradius', 2.9921276), ('innerradius', 1.9291349000000002)]\n",
      "tubecoupler: [('outerradius', 2.9921276)]\n"
     ]
    }
   ],
   "source": [
    "for c in comp:\n",
    "    if any(['radius' in key\n",
    "            and 'packed' not in key\n",
    "            and 'offset' not in key\n",
    "            and 'fillet' not in key\n",
    "            for key in c.data.keys()]):\n",
    "        \n",
    "        print(f\"{c.tag}: {[(key,m2i(c.data[key]['value'])) for key in c.data.keys() if 'radius' in key]}\")\n",
    "        \n",
    "        "
   ]
  },
  {
   "cell_type": "code",
   "execution_count": null,
   "metadata": {},
   "outputs": [],
   "source": []
  }
 ],
 "metadata": {
  "kernelspec": {
   "display_name": "Python 3",
   "language": "python",
   "name": "python3"
  },
  "language_info": {
   "codemirror_mode": {
    "name": "ipython",
    "version": 3
   },
   "file_extension": ".py",
   "mimetype": "text/x-python",
   "name": "python",
   "nbconvert_exporter": "python",
   "pygments_lexer": "ipython3",
   "version": "3.11.3"
  },
  "orig_nbformat": 4
 },
 "nbformat": 4,
 "nbformat_minor": 2
}
